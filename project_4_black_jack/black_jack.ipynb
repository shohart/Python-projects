{
 "cells": [
  {
   "cell_type": "code",
   "execution_count": 108,
   "metadata": {},
   "outputs": [],
   "source": [
    "import random\n",
    "\n",
    "# Defining cards\n",
    "suits = (\"♠\", \"♥\", \"♦\", \"♣\")\n",
    "ranks = (\n",
    "    '2', '3', '4', '5', '6',\n",
    "    '7', '8', '9', '10', 'J',\n",
    "    'Q', 'K', 'A'\n",
    ")\n",
    "values = {\n",
    "    '2': 2, '3': 3, '4': 4, '5': 5, '6': 6,\n",
    "    '7': 7, '8': 8, '9': 9, '10': 10, 'J': 10,\n",
    "    'Q': 10, 'K': 10, 'A': [11, 1]\n",
    "}"
   ]
  },
  {
   "cell_type": "code",
   "execution_count": 191,
   "metadata": {},
   "outputs": [],
   "source": [
    "def continue_game():\n",
    "    # Define game continue or not\n",
    "\n",
    "    go_game = 'empty value'\n",
    "\n",
    "    while go_game.capitalize() not in ['Yes', 'No', 'Y', 'N']:\n",
    "\n",
    "        go_game = input('Continue? Enter Yes or No: ')\n",
    "\n",
    "        if go_game.capitalize() not in ['Yes', 'No', 'Y', 'N']:\n",
    "            print('\\n'*100)\n",
    "            print(\"Sorry, I didn't understand.\\n\"\n",
    "                  \"Please make sure to enter Yes or No.\")\n",
    "\n",
    "    return bool(go_game.capitalize() in ['Yes', 'Y'])"
   ]
  },
  {
   "cell_type": "code",
   "execution_count": 197,
   "metadata": {},
   "outputs": [],
   "source": [
    "def proceed():\n",
    "    \"\"\"Asks the players to start the game.\n",
    "\n",
    "    Parameters:\n",
    "        None\n",
    "\n",
    "    Returns:\n",
    "        boolean: True if the players decide to start the game, False if not.\n",
    "    \"\"\"\n",
    "    go_game = 'empty value'\n",
    "\n",
    "    while go_game.capitalize() not in ['Yes', 'No', 'Y', 'N']:\n",
    "\n",
    "        go_game = input('Start the game? Enter Yes or No: ')\n",
    "\n",
    "        if go_game.capitalize() not in ['Yes', 'No']:\n",
    "            print(\"Sorry, I didn't understand.\\n\"\n",
    "                  \"Please make sure to enter Yes or No.\")\n",
    "\n",
    "    return bool(go_game.capitalize() in ['Yes', 'Y'])"
   ]
  },
  {
   "cell_type": "code",
   "execution_count": 109,
   "metadata": {},
   "outputs": [],
   "source": [
    "class Card():\n",
    "    \"\"\"\n",
    "    This class represents a playing card.\n",
    "\n",
    "    Args:\n",
    "    suit (str): The suit of the card (e.g. \"Hearts\" or \"Spades\")\n",
    "    rank (str): The rank of the card (e.g. \"Ace\" or \"King\")\n",
    "\n",
    "    Attributes:\n",
    "    suit (str): The suit of the card (e.g. \"Hearts\" or \"Spades\")\n",
    "    rank (str): The rank of the card (e.g. \"Ace\" or \"King\")\n",
    "    value (int): The numerical value of the card\n",
    "\n",
    "    Methods:\n",
    "    init(): Initializes the playing card object\n",
    "    str(): Returns the string representation of the card\n",
    "    \"\"\"\n",
    "\n",
    "    def __init__(self, suit, rank):\n",
    "        self.suit = suit\n",
    "        self.rank = rank\n",
    "        self.value = values[rank]\n",
    "        self.pic = [\n",
    "          '┌───────┐',\n",
    "         f'│ {self.rank}     │',\n",
    "         f'│   {self.suit}   │',\n",
    "         f'│     {self.rank} │',\n",
    "          '└───────┘'\n",
    "          ]\n",
    "\n",
    "    def __str__(self):\n",
    "        return \"\\n\".join(x for x in self.pic)\n"
   ]
  },
  {
   "cell_type": "code",
   "execution_count": 110,
   "metadata": {},
   "outputs": [],
   "source": [
    "class Deck():\n",
    "    \"\"\"\n",
    "    This class creates a Deck object which has two methods:\n",
    "    shuffle() which shuffles the deck and deal_one() which deals one card\n",
    "    from the deck.\n",
    "    The Deck object is initialized with a list of all the cards.\n",
    "    \"\"\"\n",
    "\n",
    "    def __init__(self):\n",
    "        self.all_cards = []\n",
    "\n",
    "        for suit in suits:\n",
    "\n",
    "            for rank in ranks:\n",
    "                created_card = Card(suit, rank)\n",
    "                self.all_cards.append(created_card)\n",
    "\n",
    "    def shuffle(self):\n",
    "        random.shuffle(self.all_cards)\n",
    "        print('Deck has been shuffled!')\n",
    "\n",
    "    def deal_one(self):\n",
    "        return self.all_cards.pop()\n"
   ]
  },
  {
   "cell_type": "code",
   "execution_count": 111,
   "metadata": {},
   "outputs": [],
   "source": [
    "new_deck = Deck()"
   ]
  },
  {
   "cell_type": "code",
   "execution_count": 112,
   "metadata": {},
   "outputs": [
    {
     "name": "stdout",
     "output_type": "stream",
     "text": [
      "┌───────┐\n",
      "│ A     │\n",
      "│   ♥   │\n",
      "│     A │\n",
      "└───────┘\n"
     ]
    },
    {
     "data": {
      "text/plain": [
       "[11, 1]"
      ]
     },
     "execution_count": 112,
     "metadata": {},
     "output_type": "execute_result"
    }
   ],
   "source": [
    "print(new_deck.all_cards[25])\n",
    "new_deck.all_cards[25].value"
   ]
  },
  {
   "cell_type": "code",
   "execution_count": 113,
   "metadata": {},
   "outputs": [
    {
     "name": "stdout",
     "output_type": "stream",
     "text": [
      "┌───────┐\n",
      "│ 4     │\n",
      "│   ♠   │\n",
      "│     4 │\n",
      "└───────┘\n",
      "┌───────┐\n",
      "│ A     │\n",
      "│   ♠   │\n",
      "│     A │\n",
      "└───────┘\n",
      "┌───────┐\n",
      "│ K     │\n",
      "│   ♣   │\n",
      "│     K │\n",
      "└───────┘\n",
      "┌───────┐ ┌───────┐ ┌───────┐\n",
      "│ 4     │ │ A     │ │ K     │\n",
      "│   ♠   │ │   ♠   │ │   ♣   │\n",
      "│     4 │ │     A │ │     K │\n",
      "└───────┘ └───────┘ └───────┘\n"
     ]
    }
   ],
   "source": [
    "card_lst = [new_deck.all_cards[2], new_deck.all_cards[12],\n",
    "            new_deck.all_cards[50]]\n",
    "\n",
    "\n",
    "for pos in card_lst:\n",
    "    print(pos)\n",
    "\n",
    "\n",
    "for i in range(5):\n",
    "    row = \" \".join(card_lst[n].pic[i] for n in range(len(card_lst)))\n",
    "    print(row)\n"
   ]
  },
  {
   "cell_type": "code",
   "execution_count": 238,
   "metadata": {},
   "outputs": [],
   "source": [
    "class Player():\n",
    "    \"\"\"\n",
    "    This class represents a Player in a game.\n",
    "\n",
    "    It has the following attributes:\n",
    "\n",
    "    name: The name of the player\n",
    "    all_cards: A list of all the cards in the player's hand\n",
    "    It has the following methods:\n",
    "\n",
    "    remove_one(): Removes and returns the first card in the player's hand\n",
    "    add_cards(): Takes a new card or list of cards and adds them to the\n",
    "    player's hand\n",
    "    shuffle(): Shuffles the player's cards\n",
    "    str(): Returns a string representation of the player and the number\n",
    "    of cards in their hand\n",
    "    \"\"\"\n",
    "\n",
    "    def __init__(self):\n",
    "        self.name = input('Enter your name: ')\n",
    "        self.bank = 0\n",
    "        self.hand = []\n",
    "        self.history = []\n",
    "        self.hand_value = 0\n",
    "\n",
    "    def hit(self):\n",
    "\n",
    "        move = '_'\n",
    "\n",
    "        while move not in ['stand', 'hit', 'h', 's']:\n",
    "            move = input('Stand or Hit?').lower()\n",
    "\n",
    "            if move not in ['stand', 'hit', 'h', 's']:\n",
    "                print('\\n'*100)\n",
    "                print('Sorry, you need to enter \"Hit\" or \"Pass\"!')\n",
    "                continue\n",
    "\n",
    "        return bool(move in ['hit', 'h'])\n",
    "\n",
    "    def add_funds(self):\n",
    "\n",
    "        amount = '_'\n",
    "\n",
    "        while not amount.isdigit():\n",
    "            amount = input('How much do you want to add?')\n",
    "\n",
    "            if not amount.isdigit():\n",
    "                print(\"Sorry that is not a digit! Please enter a valid digit!\")\n",
    "                continue\n",
    "\n",
    "        self.bank += int(amount)\n",
    "        self.history.append(f'{self.name},ADD,{amount},deposit')\n",
    "        print(f'{amount} just added to your bank.\\nYour bank: {self.bank}')\n",
    "\n",
    "    def bet(self):\n",
    "\n",
    "        amount = '_'\n",
    "\n",
    "        while True:\n",
    "            amount = input('Place a bet! Enter the ammount: ')\n",
    "\n",
    "            if not amount.isdigit() or amount == '0':\n",
    "                print(\"Sorry that is not a valid bet!\")\n",
    "                continue\n",
    "\n",
    "            elif int(amount) > self.bank:\n",
    "                print('Oops! You do not have so much money! Please reduce a bet!')\n",
    "                continue\n",
    "\n",
    "            else:\n",
    "                self.bank -= int(amount)\n",
    "                self.history.append(f'{self.name},REMOVE,{amount},bet')\n",
    "                print(\n",
    "                    f'A bet of {amount} was successfully placed.\\nYour bank: {self.bank}'\n",
    "                )\n",
    "                break\n",
    "\n",
    "        return int(amount)\n",
    "\n",
    "    def add_cards(self, new_cards):\n",
    "        self.hand.append(new_cards)\n",
    "\n",
    "    def check_hand(self):\n",
    "        total = 0\n",
    "        for card in self.hand:\n",
    "            total += card.value\n",
    "            if isinstance(card.value, list)\n",
    "\n",
    "    def __str__(self):\n",
    "        return (f'Player {self.name} has {len(self.hand)} cards. ' +\n",
    "                f\"Player's balance: {self.bank}\")\n"
   ]
  },
  {
   "cell_type": "code",
   "execution_count": 187,
   "metadata": {},
   "outputs": [],
   "source": [
    "jack = Player('jack', 1000)\n"
   ]
  },
  {
   "cell_type": "code",
   "execution_count": 188,
   "metadata": {},
   "outputs": [
    {
     "name": "stdout",
     "output_type": "stream",
     "text": [
      "A bet of 12 was successfully placed.\n",
      "Your bank: 988\n",
      "32 just added to your bank.\n",
      "Your bank: 1020\n"
     ]
    }
   ],
   "source": [
    "jack.bet()\n",
    "\n",
    "jack.add_funds()"
   ]
  },
  {
   "cell_type": "code",
   "execution_count": 189,
   "metadata": {},
   "outputs": [
    {
     "name": "stdout",
     "output_type": "stream",
     "text": [
      "1020\n",
      "[]\n"
     ]
    },
    {
     "data": {
      "text/plain": [
       "['jack,REMOVE,12,bet', 'jack,ADD,32,deposit']"
      ]
     },
     "execution_count": 189,
     "metadata": {},
     "output_type": "execute_result"
    }
   ],
   "source": [
    "print(jack.bank)\n",
    "print(jack.hand)\n",
    "jack.history"
   ]
  },
  {
   "cell_type": "code",
   "execution_count": 190,
   "metadata": {},
   "outputs": [
    {
     "name": "stdout",
     "output_type": "stream",
     "text": [
      "Player jack has 0 cards. Player's balance: 1020\n"
     ]
    }
   ],
   "source": [
    "print(jack)"
   ]
  },
  {
   "cell_type": "code",
   "execution_count": 239,
   "metadata": {},
   "outputs": [],
   "source": [
    "class Dealer():\n",
    "\n",
    "    def __init__(self, shoe):\n",
    "        self.hand = []\n",
    "        self.shoe = shoe\n",
    "        self.box = 0\n",
    "\n",
    "    def deal_one(self):\n",
    "        return self.shoe.all_cards.pop(0)\n",
    "\n",
    "    def add_cards(self, new_cards):\n",
    "        self.hand.append(new_cards)\n",
    "\n",
    "    def shuffle(self):\n",
    "        random.shuffle(self.shoe.all_cards)\n",
    "        print('Deck has been shuffled by Dealer!')\n",
    "\n",
    "    def __str__(self):\n",
    "        return f'There are {len(self.shoe)} cards in the shoe.'\n"
   ]
  },
  {
   "cell_type": "code",
   "execution_count": 243,
   "metadata": {},
   "outputs": [
    {
     "name": "stdout",
     "output_type": "stream",
     "text": [
      "Welcome to the BlackJack game! You need to get to 21 points in your hand.\n",
      "But not more! Ace could be either 11 or 1 in your favor!\n",
      "\n",
      "Hello Jack!\n",
      "Deck has been shuffled!\n",
      "Your initial bank is empty!\n",
      "100 just added to your bank.\n",
      "Your bank: 100\n"
     ]
    }
   ],
   "source": [
    "# Static intro:\n",
    "\n",
    "# Display intro screen\n",
    "# print('\\n'*100)\n",
    "print('Welcome to the BlackJack game! '\n",
    "      'You need to get to 21 points in your hand.\\n'\n",
    "      'But not more! Ace could be either 11 or 1 in your favor!\\n')\n",
    "\n",
    "# Initiate class instances\n",
    "game_deck = Deck()\n",
    "\n",
    "dealer = Dealer(game_deck)\n",
    "player = Player()\n",
    "print(f'Hello {player.name}!')\n",
    "\n",
    "# Initial shuffle the deck\n",
    "game_deck.shuffle()\n",
    "\n",
    "if player.bank <= 0:\n",
    "    print('Your initial bank is empty!')\n",
    "    player.add_funds()\n"
   ]
  },
  {
   "cell_type": "code",
   "execution_count": 241,
   "metadata": {},
   "outputs": [
    {
     "data": {
      "text/plain": [
       "[]"
      ]
     },
     "execution_count": 241,
     "metadata": {},
     "output_type": "execute_result"
    }
   ],
   "source": [
    "# dealer.add_cards(dealer.deal_one())\n",
    "dealer.hand"
   ]
  },
  {
   "cell_type": "code",
   "execution_count": null,
   "metadata": {},
   "outputs": [],
   "source": [
    "while True:\n",
    "    # Start a game\n",
    "    game_start = True\n",
    "\n",
    "    while game_start:\n",
    "        # Start the cycle\n",
    "\n",
    "        game_start = proceed()\n",
    "\n",
    "        # shuffle the shoe\n",
    "        dealer.shuffle()\n",
    "\n",
    "        # deal cards\n",
    "        for i in range(2):\n",
    "            player.add_cards(dealer.deal_one())\n",
    "            dealer.add_cards(dealer.deal_one())\n",
    "\n",
    "        # print hands\n",
    "        print('Dealer:')\n",
    "        for i in range(5):\n",
    "            row = \" \".join(\n",
    "                  dealer.hand[n].pic[i] for n in range(len(dealer.hand))\n",
    "            )\n",
    "            print(row)\n",
    "        \n",
    "        print('\\n'*4)\n",
    "        \n",
    "        print('Player:')\n",
    "        for i in range(5):\n",
    "            row = \" \".join(\n",
    "                  player.hand[n].pic[i] for n in range(len(player.hand))\n",
    "            )\n",
    "            print(row)\n",
    "\n",
    "        # ask for a bet\n",
    "        dealer.box += player.bet()\n",
    "\n",
    "        # compare hands\n",
    "        \n",
    "        # second loop with a hit\n",
    "\n",
    "        # compare hands\n",
    "\n",
    "        #  ask for a hit\n",
    "\n",
    "    if not proceed():\n",
    "        break\n"
   ]
  }
 ],
 "metadata": {
  "kernelspec": {
   "display_name": "Python 3",
   "language": "python",
   "name": "python3"
  },
  "language_info": {
   "codemirror_mode": {
    "name": "ipython",
    "version": 3
   },
   "file_extension": ".py",
   "mimetype": "text/x-python",
   "name": "python",
   "nbconvert_exporter": "python",
   "pygments_lexer": "ipython3",
   "version": "3.11.1"
  },
  "orig_nbformat": 4,
  "vscode": {
   "interpreter": {
    "hash": "22b6aa23ebdb95c31771a605332d65b96d6e70a70a8e5cf021766a53e709a3c7"
   }
  }
 },
 "nbformat": 4,
 "nbformat_minor": 2
}
