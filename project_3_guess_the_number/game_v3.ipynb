{
 "cells": [
  {
   "cell_type": "markdown",
   "metadata": {},
   "source": [
    "***Project 1. Task 8.1 of SkillFactory python course.***"
   ]
  },
  {
   "cell_type": "code",
   "execution_count": null,
   "metadata": {},
   "outputs": [],
   "source": [
    "import numpy as np  # need to import a numpy module.\n"
   ]
  },
  {
   "cell_type": "markdown",
   "metadata": {},
   "source": [
    "**Predict Function**"
   ]
  },
  {
   "cell_type": "code",
   "execution_count": null,
   "metadata": {},
   "outputs": [],
   "source": [
    "def random_predict_midl(number: int = np.random.randint(1, 101)) -> int:\n",
    "    \"\"\"Find a random number\n",
    "\n",
    "    Args:\n",
    "        number (int, optional): Number to find. Should be in range 1-100.\n",
    "        Defaults to randomly generated number.\n",
    "\n",
    "    Returns:\n",
    "        int: Number of cycles/tries\n",
    "    \"\"\"\n",
    "\n",
    "    if number not in range(1, 101):  # protection form a wrong input\n",
    "        raise ValueError('Number not in range!')\n",
    "\n",
    "    min, max = 1, 101  # set minimum and maximum numbers in range.\n",
    "    count = 0  # number of tries\n",
    "\n",
    "    while True:\n",
    "        count += 1\n",
    "        midl = (min+max) // 2\n",
    "\n",
    "        if midl > number:\n",
    "            max = midl\n",
    "\n",
    "        elif midl < number:\n",
    "            min = midl\n",
    "\n",
    "        else:\n",
    "            return count\n"
   ]
  },
  {
   "cell_type": "markdown",
   "metadata": {},
   "source": [
    "**Score Function**"
   ]
  },
  {
   "cell_type": "code",
   "execution_count": null,
   "metadata": {},
   "outputs": [],
   "source": [
    "def score_game_midl(random_predict_midl) -> int:\n",
    "    \"\"\"Benchmark, how much tries does our algorythm need to solve a task.\n",
    "\n",
    "    Args:\n",
    "        random_predict_midl (): prediction fuction\n",
    "\n",
    "    Returns:\n",
    "        int: mean number of tries\n",
    "    \"\"\"\n",
    "    count_ls = []\n",
    "    np.random.seed(1)  # fixed random seed for constancy.\n",
    "    random_array = np.random.randint(1, 101, size=(1000))  # list of integers\n",
    "\n",
    "    for number in random_array:\n",
    "        count_ls.append(random_predict_midl(number))\n",
    "\n",
    "    score = int(np.mean(count_ls))\n",
    "\n",
    "    print(f\"Your algorithm can solve a task in {score} tries average.\")\n",
    "\n",
    "    return score\n"
   ]
  },
  {
   "cell_type": "markdown",
   "metadata": {},
   "source": [
    "**Complete solution**"
   ]
  },
  {
   "cell_type": "code",
   "execution_count": 2,
   "metadata": {},
   "outputs": [
    {
     "name": "stdout",
     "output_type": "stream",
     "text": [
      "Your algorithm can solve a task in 5 tries average.\n"
     ]
    }
   ],
   "source": [
    "\"\"\"Guess a number game:\n",
    "Computer generates a random integer and tries to guess that integer in\n",
    "a minimum number of tries possible.\n",
    "\"\"\"\n",
    "\n",
    "import numpy as np\n",
    "\n",
    "\n",
    "def random_predict_midl(number: int = np.random.randint(1, 101)) -> int:\n",
    "    \"\"\"Find a random number\n",
    "\n",
    "    Args:\n",
    "        number (int, optional): Number to find. Should be in range 1-100.\n",
    "        Defaults to randomly generated number.\n",
    "\n",
    "    Returns:\n",
    "        int: Number of cycles/tries\n",
    "    \"\"\"\n",
    "\n",
    "    if number not in range(1, 101):  # protection form a wrong input\n",
    "        raise ValueError('Number not in range!')\n",
    "\n",
    "    min, max = 1, 101  # set minimum and maximum numbers in range.\n",
    "    count = 0  # number of tries\n",
    "\n",
    "    while True:\n",
    "        count += 1\n",
    "        midl = (min+max) // 2\n",
    "\n",
    "        if midl > number:\n",
    "            max = midl\n",
    "\n",
    "        elif midl < number:\n",
    "            min = midl\n",
    "\n",
    "        else:\n",
    "            return count\n",
    "\n",
    "\n",
    "def score_game_midl(random_predict_midl) -> int:\n",
    "    \"\"\"Benchmark, how much tries does our algorythm need to solve a task.\n",
    "\n",
    "    Args:\n",
    "        random_predict_midl (): prediction fuction\n",
    "\n",
    "    Returns:\n",
    "        int: mean number of tries\n",
    "    \"\"\"\n",
    "\n",
    "    count_ls = []\n",
    "    np.random.seed(1)  # fixed random seed for constancy.\n",
    "    random_array = np.random.randint(1, 101, size=(1000))  # list of integers\n",
    "\n",
    "    for number in random_array:\n",
    "        count_ls.append(random_predict_midl(number))\n",
    "\n",
    "    score = int(np.mean(count_ls))\n",
    "\n",
    "    print(f\"Your algorithm can solve a task in {score} tries average.\")\n",
    "\n",
    "    return score\n",
    "\n",
    "\n",
    "if __name__ == \"__main__\":\n",
    "    # RUN\n",
    "    score_game_midl(random_predict_midl)\n"
   ]
  }
 ],
 "metadata": {
  "kernelspec": {
   "display_name": "Python 3",
   "language": "python",
   "name": "python3"
  },
  "language_info": {
   "codemirror_mode": {
    "name": "ipython",
    "version": 3
   },
   "file_extension": ".py",
   "mimetype": "text/x-python",
   "name": "python",
   "nbconvert_exporter": "python",
   "pygments_lexer": "ipython3",
   "version": "3.10.9 (tags/v3.10.9:1dd9be6, Dec  6 2022, 20:01:21) [MSC v.1934 64 bit (AMD64)]"
  },
  "orig_nbformat": 4,
  "vscode": {
   "interpreter": {
    "hash": "cc2a200e1e6dab10c4dc3986f0e7a998296447c993c26561a1bd050a849d8214"
   }
  }
 },
 "nbformat": 4,
 "nbformat_minor": 2
}
