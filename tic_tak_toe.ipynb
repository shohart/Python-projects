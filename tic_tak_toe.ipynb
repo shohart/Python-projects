{
 "cells": [
  {
   "attachments": {},
   "cell_type": "markdown",
   "metadata": {},
   "source": [
    "# Tic Tak Toe\n"
   ]
  },
  {
   "cell_type": "code",
   "execution_count": 5,
   "metadata": {},
   "outputs": [],
   "source": [
    "# Importing libraries\n",
    "from IPython.display import clear_output\n",
    "import random"
   ]
  },
  {
   "attachments": {},
   "cell_type": "markdown",
   "metadata": {},
   "source": [
    "### Initial service dict, variables and board setup"
   ]
  },
  {
   "cell_type": "code",
   "execution_count": 20,
   "metadata": {},
   "outputs": [],
   "source": [
    "# Defining rows of a board\n",
    "pos = ['not_used',\n",
    "       '1', '2', '3',\n",
    "       '4', '5', '6',\n",
    "       '7', '8', '9'\n",
    "       ]\n",
    "\n",
    "# Defining board itself\n",
    "board = (\n",
    "\n",
    "    f'  {pos[7]} | {pos[8]} | {pos[9]} \\n '\n",
    "    '---|---|---\\n'\n",
    "    f'  {pos[4]} | {pos[5]} | {pos[6]} \\n '\n",
    "    '---|---|---\\n'\n",
    "    f'  {pos[1]} | {pos[2]} | {pos[3]} \\n'\n",
    "\n",
    ")\n",
    "\n",
    "# Setting initial service variables\n",
    "game_on = True\n",
    "player1 = 'Empty'\n",
    "player2 = 'Empty'\n",
    "win = 'nobody'\n",
    "board_full = False\n"
   ]
  },
  {
   "attachments": {},
   "cell_type": "markdown",
   "metadata": {},
   "source": [
    "### Defining functions"
   ]
  },
  {
   "cell_type": "code",
   "execution_count": 21,
   "metadata": {},
   "outputs": [],
   "source": [
    "def game_board(board):\n",
    "    # Drawing a game board\n",
    "    print(board)"
   ]
  },
  {
   "cell_type": "code",
   "execution_count": 22,
   "metadata": {},
   "outputs": [
    {
     "name": "stdout",
     "output_type": "stream",
     "text": [
      "  7 | 8 | 9 \n",
      " ---|---|---\n",
      "  4 | 5 | 6 \n",
      " ---|---|---\n",
      "  1 | 2 | 3 \n",
      "\n"
     ]
    }
   ],
   "source": [
    "game_board(board)"
   ]
  },
  {
   "cell_type": "code",
   "execution_count": 23,
   "metadata": {},
   "outputs": [],
   "source": [
    "def user_pic():\n",
    "    # Pick a side X or O\n",
    "\n",
    "    pic = 'EMPTY CHOICE'\n",
    "\n",
    "    while pic not in 'XO':\n",
    "        pic = input('Player 1! Pick a side! X or O? ').upper()\n",
    "        if pic not in 'XO':\n",
    "            clear_output()\n",
    "            print('Sorry, you need to enter X or O!')\n",
    "\n",
    "    return pic\n"
   ]
  },
  {
   "cell_type": "code",
   "execution_count": 24,
   "metadata": {},
   "outputs": [
    {
     "data": {
      "text/plain": [
       "'X'"
      ]
     },
     "execution_count": 24,
     "metadata": {},
     "output_type": "execute_result"
    }
   ],
   "source": [
    "user_pic()"
   ]
  },
  {
   "cell_type": "code",
   "execution_count": 37,
   "metadata": {},
   "outputs": [],
   "source": [
    "def user_pic():\n",
    "    # Pick a side X or O\n",
    "\n",
    "    player1 = 'empty'\n",
    "    player2 = 'empty'\n",
    "\n",
    "    while player1 not in 'XO':\n",
    "        player1 = input('Player 1! Pick a side! X or O? ').upper()\n",
    "        if player1 not in 'XO':\n",
    "            print('\\n'*100)\n",
    "            print('Sorry, you need to enter X or O!')\n",
    "\n",
    "    if player1 == 'X':\n",
    "        player2 = 'O'\n",
    "    else:\n",
    "        player2 = 'X'\n",
    "\n",
    "    return player1, player2"
   ]
  },
  {
   "cell_type": "code",
   "execution_count": 38,
   "metadata": {},
   "outputs": [
    {
     "data": {
      "text/plain": [
       "('X', 'O')"
      ]
     },
     "execution_count": 38,
     "metadata": {},
     "output_type": "execute_result"
    }
   ],
   "source": [
    "user_pic()"
   ]
  },
  {
   "cell_type": "code",
   "execution_count": 25,
   "metadata": {},
   "outputs": [],
   "source": [
    "def user_choice():\n",
    "    # Defining user position choice\n",
    "\n",
    "    choice = 'WRONG'\n",
    "\n",
    "    while not choice.isdigit() or \\\n",
    "        int(choice) not in range(1, 10) or \\\n",
    "            pos[int(choice)] != ' ':\n",
    "\n",
    "        choice = input('Select a position index (1-9): ')\n",
    "\n",
    "        if not choice.isdigit():\n",
    "            print(\"Sorry that is not a digit! Please enter 1-9!\")\n",
    "\n",
    "        elif int(choice) not in range(1, 10):\n",
    "            print('Sorry that is not a correct position value! '\n",
    "                  'Please enter 1-9!')\n",
    "        elif pos[int(choice)] != ' ':\n",
    "            print('Sorry this spot was already taken!')\n",
    "\n",
    "    return int(choice)\n"
   ]
  },
  {
   "cell_type": "code",
   "execution_count": 12,
   "metadata": {},
   "outputs": [
    {
     "data": {
      "text/plain": [
       "1"
      ]
     },
     "execution_count": 12,
     "metadata": {},
     "output_type": "execute_result"
    }
   ],
   "source": [
    "user_choice()"
   ]
  },
  {
   "cell_type": "code",
   "execution_count": 26,
   "metadata": {},
   "outputs": [],
   "source": [
    "def continue_game():\n",
    "    # Define game continue or not\n",
    "\n",
    "    go_game = 'empty value'\n",
    "\n",
    "    while go_game.capitalize() not in ['Yes', 'No']:\n",
    "\n",
    "        go_game = input('Continue? Enter Yes or No: ')\n",
    "\n",
    "        if go_game.capitalize() not in ['Yes', 'No']:\n",
    "            clear_output()\n",
    "            print(\"Sorry, I didn't understand.\\n\"\n",
    "                  \"Please make sure to enter Yes or No.\")\n",
    "\n",
    "    if go_game.capitalize() == \"Yes\":\n",
    "        # Game is still on\n",
    "        return True\n",
    "\n",
    "    else:\n",
    "        # Game is over\n",
    "        return False\n"
   ]
  },
  {
   "cell_type": "code",
   "execution_count": 14,
   "metadata": {},
   "outputs": [
    {
     "data": {
      "text/plain": [
       "True"
      ]
     },
     "execution_count": 14,
     "metadata": {},
     "output_type": "execute_result"
    }
   ],
   "source": [
    "continue_game()"
   ]
  },
  {
   "cell_type": "code",
   "execution_count": 27,
   "metadata": {},
   "outputs": [],
   "source": [
    "def board_replace(dictionary, position):\n",
    "    # Making changes in the board according to a choice\n",
    "\n",
    "    if turn % 2 != 0:\n",
    "        dictionary[position] = player1\n",
    "\n",
    "    else:\n",
    "        dictionary[position] = player2\n",
    "\n",
    "    return dictionary"
   ]
  },
  {
   "cell_type": "code",
   "execution_count": 16,
   "metadata": {},
   "outputs": [
    {
     "data": {
      "text/plain": [
       "['not_used', 'Empty', ' ', ' ', ' ', ' ', ' ', ' ', ' ', ' ']"
      ]
     },
     "execution_count": 16,
     "metadata": {},
     "output_type": "execute_result"
    }
   ],
   "source": [
    "board_replace(pos, 1)"
   ]
  },
  {
   "cell_type": "code",
   "execution_count": 32,
   "metadata": {},
   "outputs": [],
   "source": [
    "def check_win():\n",
    "    # Checking rows for winner\n",
    "\n",
    "    if pos[7] == pos[8] == pos[9] == player1 or \\\n",
    "       pos[4] == pos[5] == pos[6] == player1 or \\\n",
    "       pos[1] == pos[2] == pos[3] == player1 or \\\n",
    "                                     \\\n",
    "       pos[1] == pos[4] == pos[7] == player1 or \\\n",
    "       pos[2] == pos[5] == pos[8] == player1 or \\\n",
    "       pos[3] == pos[6] == pos[9] == player1 or \\\n",
    "                                     \\\n",
    "       pos[7] == pos[5] == pos[3] == player1 or \\\n",
    "       pos[1] == pos[5] == pos[9] == player1:\n",
    "\n",
    "        return 'Player 1'\n",
    "\n",
    "    elif pos[7] == pos[8] == pos[9] == player2 or \\\n",
    "            pos[4] == pos[5] == pos[6] == player2 or \\\n",
    "            pos[1] == pos[2] == pos[3] == player2 or \\\n",
    "                                         \\\n",
    "            pos[1] == pos[4] == pos[7] == player2 or \\\n",
    "            pos[2] == pos[5] == pos[8] == player2 or \\\n",
    "            pos[3] == pos[6] == pos[9] == player2 or \\\n",
    "                                         \\\n",
    "            pos[7] == pos[5] == pos[3] == player2 or \\\n",
    "            pos[1] == pos[5] == pos[9] == player2:\n",
    "\n",
    "        return 'Player 2'\n",
    "\n",
    "    else:\n",
    "\n",
    "        return 'nobody'\n",
    "\n"
   ]
  },
  {
   "cell_type": "code",
   "execution_count": 10,
   "metadata": {},
   "outputs": [
    {
     "data": {
      "text/plain": [
       "'nobody'"
      ]
     },
     "execution_count": 10,
     "metadata": {},
     "output_type": "execute_result"
    }
   ],
   "source": [
    "check_win()"
   ]
  },
  {
   "cell_type": "code",
   "execution_count": 1,
   "metadata": {},
   "outputs": [],
   "source": [
    "def choose_first():\n",
    "    # Choose who goes first on a game\n",
    "    return random.randint(1, 2)\n"
   ]
  },
  {
   "cell_type": "code",
   "execution_count": 6,
   "metadata": {},
   "outputs": [
    {
     "data": {
      "text/plain": [
       "2"
      ]
     },
     "execution_count": 6,
     "metadata": {},
     "output_type": "execute_result"
    }
   ],
   "source": [
    "choose_first()"
   ]
  },
  {
   "cell_type": "code",
   "execution_count": 7,
   "metadata": {},
   "outputs": [],
   "source": [
    "def reset_board():\n",
    "    # Set all the values to default\n",
    "\n",
    "    win = 'nobody'\n",
    "\n",
    "    pos = [\n",
    "        'not_used',\n",
    "        ' ', ' ', ' ',\n",
    "        ' ', ' ', ' ',\n",
    "        ' ', ' ', ' '\n",
    "    ]\n",
    "\n",
    "    board = (\n",
    "\n",
    "        f'  {pos[7]} | {pos[8]} | {pos[9]} \\n '\n",
    "        '---|---|---\\n'\n",
    "        f'  {pos[4]} | {pos[5]} | {pos[6]} \\n '\n",
    "        '---|---|---\\n'\n",
    "        f'  {pos[1]} | {pos[2]} | {pos[3]} \\n'\n",
    "\n",
    "    )\n",
    "\n",
    "    turn = choose_first()\n",
    "\n",
    "    return win, pos, board, turn"
   ]
  },
  {
   "cell_type": "code",
   "execution_count": 8,
   "metadata": {},
   "outputs": [
    {
     "data": {
      "text/plain": [
       "('nobody',\n",
       " ['not_used', ' ', ' ', ' ', ' ', ' ', ' ', ' ', ' ', ' '],\n",
       " '    |   |   \\n ---|---|---\\n    |   |   \\n ---|---|---\\n    |   |   \\n',\n",
       " 2)"
      ]
     },
     "execution_count": 8,
     "metadata": {},
     "output_type": "execute_result"
    }
   ],
   "source": [
    "reset_board()"
   ]
  },
  {
   "cell_type": "code",
   "execution_count": 15,
   "metadata": {},
   "outputs": [],
   "source": [
    "def board_full_check(pos):\n",
    "    # Check if the board is full or not\n",
    "    return ' ' not in pos"
   ]
  },
  {
   "cell_type": "code",
   "execution_count": 16,
   "metadata": {},
   "outputs": [
    {
     "data": {
      "text/plain": [
       "False"
      ]
     },
     "execution_count": 16,
     "metadata": {},
     "output_type": "execute_result"
    }
   ],
   "source": [
    "board_full_check(pos)"
   ]
  },
  {
   "cell_type": "code",
   "execution_count": 18,
   "metadata": {},
   "outputs": [],
   "source": [
    "def proceed():\n",
    "    # Define actual start of the game\n",
    "\n",
    "    go_game = 'empty value'\n",
    "\n",
    "    while go_game.capitalize() not in ['Yes', 'No']:\n",
    "\n",
    "        go_game = input('Start the game? Enter Yes or No: ')\n",
    "\n",
    "        if go_game.capitalize() not in ['Yes', 'No']:\n",
    "            print(\"Sorry, I didn't understand.\\n\"\n",
    "                  \"Please make sure to enter Yes or No.\")\n",
    "\n",
    "    if go_game.capitalize() == \"Yes\":\n",
    "        # Game is still on\n",
    "        return True\n",
    "\n",
    "    else:\n",
    "        # Game is over\n",
    "        return False\n"
   ]
  },
  {
   "cell_type": "code",
   "execution_count": 19,
   "metadata": {},
   "outputs": [
    {
     "data": {
      "text/plain": [
       "True"
      ]
     },
     "execution_count": 19,
     "metadata": {},
     "output_type": "execute_result"
    }
   ],
   "source": [
    "proceed()"
   ]
  },
  {
   "attachments": {},
   "cell_type": "markdown",
   "metadata": {},
   "source": [
    "### Static game start"
   ]
  },
  {
   "cell_type": "code",
   "execution_count": 29,
   "metadata": {},
   "outputs": [],
   "source": [
    "# Printing Welcome message\n",
    "clear_output()\n",
    "print('Welcome to the Tic Tak Toe game! '\n",
    "      'You pick the spot by index.\\n'\n",
    "      'Here is the board indexes:\\n')\n",
    "print(board)\n",
    "\n",
    "# Choose a marker\n",
    "player1 = user_pic()\n",
    "\n",
    "if player1 == 'X':\n",
    "    player2 = 'O'\n",
    "else:\n",
    "    player2 = 'X'\n",
    "\n",
    "# Clear output\n",
    "clear_output()\n",
    "\n",
    "game_start = True\n"
   ]
  },
  {
   "cell_type": "code",
   "execution_count": 30,
   "metadata": {},
   "outputs": [],
   "source": [
    "#  Reset board dictionary\n",
    "pos = [\n",
    "    'not_used',\n",
    "    ' ', ' ', ' ',\n",
    "    ' ', ' ', ' ',\n",
    "    ' ', ' ', ' '\n",
    "]\n"
   ]
  },
  {
   "attachments": {},
   "cell_type": "markdown",
   "metadata": {},
   "source": [
    "### Main game loop"
   ]
  },
  {
   "cell_type": "code",
   "execution_count": 33,
   "metadata": {},
   "outputs": [
    {
     "name": "stdout",
     "output_type": "stream",
     "text": [
      "Player 1 won!\n",
      "\n",
      "  X | X | O \n",
      " ---|---|---\n",
      "  O | X | O \n",
      " ---|---|---\n",
      "  X | O | X \n",
      "\n"
     ]
    }
   ],
   "source": [
    "# Main game cycle\n",
    "while game_on and game_start:\n",
    "\n",
    "    # Defaulting board values\n",
    "    win, pos, board, turn = reset_board()\n",
    "    board_full = board_full_check(pos)\n",
    "    game_start = True\n",
    "\n",
    "    # Clear any historical output and show the game list\n",
    "    clear_output()\n",
    "\n",
    "    # Printing info\n",
    "    print(f'Player 1: {player1}')\n",
    "    print(f'Player 2: {player2}')\n",
    "    print(f'Player {turn} goes first!\\n')\n",
    "\n",
    "    # Promt to start the game\n",
    "    game_start = proceed()\n",
    "\n",
    "    # Turn cycle\n",
    "    while win == 'nobody' and not board_full:\n",
    "\n",
    "        # Clear any historical output and show the game list\n",
    "        clear_output()\n",
    "\n",
    "        # Draw a board\n",
    "        game_board(board)\n",
    "\n",
    "        # Greet a marker\n",
    "        if turn % 2 != 0:\n",
    "            print('Turn: Player 1')\n",
    "        else:\n",
    "            print('Turn: Player 2')\n",
    "\n",
    "        # Have player choose position\n",
    "        position = user_choice()\n",
    "\n",
    "        # Rewrite that position and update board\n",
    "        pos = board_replace(pos, position)\n",
    "\n",
    "        # Update the board\n",
    "        board = (\n",
    "\n",
    "            f'  {pos[7]} | {pos[8]} | {pos[9]} \\n '\n",
    "            '---|---|---\\n'\n",
    "            f'  {pos[4]} | {pos[5]} | {pos[6]} \\n '\n",
    "            '---|---|---\\n'\n",
    "            f'  {pos[1]} | {pos[2]} | {pos[3]} \\n'\n",
    "\n",
    "        )\n",
    "\n",
    "        # Clear Screen and show the updated game board\n",
    "        # clear_output()\n",
    "        game_board(board)\n",
    "\n",
    "        # Checking winner\n",
    "        win = check_win()\n",
    "\n",
    "        if win != 'nobody':\n",
    "            clear_output()\n",
    "            print(f'{win} won!\\n')\n",
    "            print(board)\n",
    "\n",
    "        # Checking full board\n",
    "        board_full = board_full_check(pos)\n",
    "\n",
    "        # Checking for a full board and no win\n",
    "        if board_full and win == 'nobody':\n",
    "            clear_output()\n",
    "            print('No free spots left on a board! It seems to be a tie!\\n')\n",
    "            print(board)\n",
    "\n",
    "        # Adding to a turn counter\n",
    "        turn += 1\n",
    "\n",
    "    # Ask if you want to keep playing\n",
    "    game_on = continue_game()\n"
   ]
  }
 ],
 "metadata": {
  "kernelspec": {
   "display_name": "Python 3",
   "language": "python",
   "name": "python3"
  },
  "language_info": {
   "codemirror_mode": {
    "name": "ipython",
    "version": 3
   },
   "file_extension": ".py",
   "mimetype": "text/x-python",
   "name": "python",
   "nbconvert_exporter": "python",
   "pygments_lexer": "ipython3",
   "version": "3.11.1 (tags/v3.11.1:a7a450f, Dec  6 2022, 19:58:39) [MSC v.1934 64 bit (AMD64)]"
  },
  "orig_nbformat": 4,
  "vscode": {
   "interpreter": {
    "hash": "9e546f9cc15c4e6070443d216ec4aee9dec49124d16ddf11db475d9c514b80e6"
   }
  }
 },
 "nbformat": 4,
 "nbformat_minor": 2
}
