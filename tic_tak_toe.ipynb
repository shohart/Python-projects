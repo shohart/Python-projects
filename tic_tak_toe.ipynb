{
 "cells": [
  {
   "attachments": {},
   "cell_type": "markdown",
   "metadata": {},
   "source": [
    "# Tic Tak Toe\n"
   ]
  },
  {
   "cell_type": "code",
   "execution_count": 1,
   "metadata": {},
   "outputs": [],
   "source": [
    "# Importing libraries\n",
    "from IPython.display import clear_output"
   ]
  },
  {
   "attachments": {},
   "cell_type": "markdown",
   "metadata": {},
   "source": [
    "### Initial service dict, variables and board setup"
   ]
  },
  {
   "cell_type": "code",
   "execution_count": 2,
   "metadata": {},
   "outputs": [],
   "source": [
    "# Defining rows of a board\n",
    "pos = ['not_used',\n",
    "       '1', '2', '3',\n",
    "       '4', '5', '6',\n",
    "       '7', '8', '9'\n",
    "       ]\n",
    "\n",
    "# Defining board itself\n",
    "board = (\n",
    "\n",
    "    f'  {pos[7]} | {pos[8]} | {pos[9]} \\n '\n",
    "    '---|---|---\\n'\n",
    "    f'  {pos[4]} | {pos[5]} | {pos[6]} \\n '\n",
    "    '---|---|---\\n'\n",
    "    f'  {pos[1]} | {pos[2]} | {pos[3]} \\n'\n",
    "\n",
    ")\n",
    "\n",
    "# Setting initial service variables\n",
    "game_on = True\n",
    "player1 = 'Empty'\n",
    "player2 = 'Empty'\n",
    "turn = 1\n",
    "win = 'nobody'"
   ]
  },
  {
   "attachments": {},
   "cell_type": "markdown",
   "metadata": {},
   "source": [
    "### Defining functions"
   ]
  },
  {
   "cell_type": "code",
   "execution_count": 3,
   "metadata": {},
   "outputs": [],
   "source": [
    "def game_board(board):\n",
    "    # Drawing a game board\n",
    "    print(board)"
   ]
  },
  {
   "cell_type": "code",
   "execution_count": 4,
   "metadata": {},
   "outputs": [
    {
     "name": "stdout",
     "output_type": "stream",
     "text": [
      "  7 | 8 | 9 \n",
      " ---|---|---\n",
      "  4 | 5 | 6 \n",
      " ---|---|---\n",
      "  1 | 2 | 3 \n",
      "\n"
     ]
    }
   ],
   "source": [
    "game_board(board)"
   ]
  },
  {
   "cell_type": "code",
   "execution_count": 5,
   "metadata": {},
   "outputs": [],
   "source": [
    "def user_pic():\n",
    "    # Pick a side X or O\n",
    "\n",
    "    pic = 'EMPTY CHOICE'\n",
    "\n",
    "    while pic not in 'XO':\n",
    "        pic = input('Player 1! Pick a side! X or O? ').upper()\n",
    "        if pic not in 'XO':\n",
    "            clear_output()\n",
    "            print('Sorry, you need to enter X or O!')\n",
    "\n",
    "    return pic\n"
   ]
  },
  {
   "cell_type": "code",
   "execution_count": 6,
   "metadata": {},
   "outputs": [
    {
     "data": {
      "text/plain": [
       "'X'"
      ]
     },
     "execution_count": 6,
     "metadata": {},
     "output_type": "execute_result"
    }
   ],
   "source": [
    "user_pic()"
   ]
  },
  {
   "cell_type": "code",
   "execution_count": 7,
   "metadata": {},
   "outputs": [],
   "source": [
    "def user_choice():\n",
    "    # Defining user position choice\n",
    "\n",
    "    choice = 'WRONG'\n",
    "\n",
    "    while not choice.isdigit() or \\\n",
    "        int(choice) not in range(1, 10) or \\\n",
    "            pos[int(choice)] != ' ':\n",
    "\n",
    "        choice = input('Select a position index (1-9): ')\n",
    "\n",
    "        if not choice.isdigit():\n",
    "            print(\"Sorry that is not a digit! Please enter 1-9!\")\n",
    "\n",
    "        elif int(choice) not in range(1, 10):\n",
    "            print('Sorry that is not a correct position value! '\n",
    "                  'Please enter 1-9!')\n",
    "        elif pos[int(choice)] != ' ':\n",
    "            print('Sorry this spot was already taken!')\n",
    "\n",
    "    return int(choice)\n"
   ]
  },
  {
   "cell_type": "code",
   "execution_count": 12,
   "metadata": {},
   "outputs": [
    {
     "data": {
      "text/plain": [
       "1"
      ]
     },
     "execution_count": 12,
     "metadata": {},
     "output_type": "execute_result"
    }
   ],
   "source": [
    "user_choice()"
   ]
  },
  {
   "cell_type": "code",
   "execution_count": 13,
   "metadata": {},
   "outputs": [],
   "source": [
    "def continue_game():\n",
    "    # Define game continue or not\n",
    "\n",
    "    go_game = 'empty value'\n",
    "\n",
    "    while go_game.capitalize() not in ['Yes', 'No']:\n",
    "\n",
    "        go_game = input('Continue? Enter Yes or No: ')\n",
    "\n",
    "        if go_game.capitalize() not in ['Yes', 'No']:\n",
    "            clear_output()\n",
    "            print(\"Sorry, I didn't understand.\\n\"\n",
    "                  \"Please make sure to enter Yes or No.\")\n",
    "\n",
    "    if go_game.capitalize() == \"Yes\":\n",
    "        # Game is still on\n",
    "        return True\n",
    "\n",
    "    else:\n",
    "        # Game is over\n",
    "        return False\n"
   ]
  },
  {
   "cell_type": "code",
   "execution_count": 14,
   "metadata": {},
   "outputs": [
    {
     "data": {
      "text/plain": [
       "True"
      ]
     },
     "execution_count": 14,
     "metadata": {},
     "output_type": "execute_result"
    }
   ],
   "source": [
    "continue_game()"
   ]
  },
  {
   "cell_type": "code",
   "execution_count": 15,
   "metadata": {},
   "outputs": [],
   "source": [
    "def board_replace(dictionary, position):\n",
    "    # Making changes in the board according to a choice\n",
    "\n",
    "    if turn % 2 != 0:\n",
    "        dictionary[position] = player1\n",
    "\n",
    "    else:\n",
    "        dictionary[position] = player2\n",
    "\n",
    "    return dictionary"
   ]
  },
  {
   "cell_type": "code",
   "execution_count": 16,
   "metadata": {},
   "outputs": [
    {
     "data": {
      "text/plain": [
       "['not_used', 'Empty', ' ', ' ', ' ', ' ', ' ', ' ', ' ', ' ']"
      ]
     },
     "execution_count": 16,
     "metadata": {},
     "output_type": "execute_result"
    }
   ],
   "source": [
    "board_replace(pos, 1)"
   ]
  },
  {
   "cell_type": "code",
   "execution_count": 17,
   "metadata": {},
   "outputs": [],
   "source": [
    "def check_win():\n",
    "    # Checking rows for winner\n",
    "\n",
    "    if pos[7] == pos[8] == pos[9] == player1 or \\\n",
    "       pos[4] == pos[5] == pos[6] == player1 or \\\n",
    "       pos[1] == pos[2] == pos[3] == player1 or \\\n",
    "                                     \\\n",
    "       pos[1] == pos[4] == pos[7] == player1 or \\\n",
    "       pos[2] == pos[5] == pos[8] == player1 or \\\n",
    "       pos[3] == pos[6] == pos[9] == player1 or \\\n",
    "                                     \\\n",
    "       pos[7] == pos[5] == pos[3] == player1 or \\\n",
    "       pos[1] == pos[5] == pos[9] == player1:\n",
    "\n",
    "        return 'Player 1'\n",
    "\n",
    "    elif pos[7] == pos[8] == pos[9] == player2 or \\\n",
    "            pos[4] == pos[5] == pos[6] == player2 or \\\n",
    "            pos[1] == pos[2] == pos[3] == player2 or \\\n",
    "                                         \\\n",
    "            pos[1] == pos[4] == pos[7] == player2 or \\\n",
    "            pos[2] == pos[5] == pos[8] == player2 or \\\n",
    "            pos[3] == pos[6] == pos[9] == player2 or \\\n",
    "                                         \\\n",
    "            pos[7] == pos[5] == pos[3] == player2 or \\\n",
    "            pos[1] == pos[5] == pos[9] == player2:\n",
    "\n",
    "        return 'Player 2'\n",
    "\n",
    "    else:\n",
    "\n",
    "        return 'nobody'\n",
    "\n"
   ]
  },
  {
   "cell_type": "code",
   "execution_count": 10,
   "metadata": {},
   "outputs": [
    {
     "data": {
      "text/plain": [
       "'nobody'"
      ]
     },
     "execution_count": 10,
     "metadata": {},
     "output_type": "execute_result"
    }
   ],
   "source": [
    "check_win()"
   ]
  },
  {
   "attachments": {},
   "cell_type": "markdown",
   "metadata": {},
   "source": [
    "### Static game start"
   ]
  },
  {
   "cell_type": "code",
   "execution_count": 18,
   "metadata": {},
   "outputs": [
    {
     "name": "stdout",
     "output_type": "stream",
     "text": [
      "Player 1: X\n",
      "Player 2: O\n",
      "\n"
     ]
    }
   ],
   "source": [
    "# Printing Welcome message\n",
    "print('Welcome to the Tic Tak Toe game! '\n",
    "      'You pick the spot by index.\\n'\n",
    "      'Here is the board indexes:')\n",
    "print(board)\n",
    "\n",
    "# Choose a marker\n",
    "player1 = user_pic()\n",
    "\n",
    "if player1 == 'X':\n",
    "    player2 = 'O'\n",
    "else:\n",
    "    player2 = 'X'\n",
    "\n",
    "# Print marker info\n",
    "clear_output()\n",
    "print(f'Player 1: {player1}')\n",
    "print(f'Player 2: {player2}\\n')"
   ]
  },
  {
   "cell_type": "code",
   "execution_count": 11,
   "metadata": {},
   "outputs": [],
   "source": [
    "#  Reset board dictionary\n",
    "pos = [\n",
    "    'not_used',\n",
    "    ' ', ' ', ' ',\n",
    "    ' ', ' ', ' ',\n",
    "    ' ', ' ', ' '\n",
    "]\n"
   ]
  },
  {
   "attachments": {},
   "cell_type": "markdown",
   "metadata": {},
   "source": [
    "### Main game loop"
   ]
  },
  {
   "cell_type": "code",
   "execution_count": 19,
   "metadata": {},
   "outputs": [
    {
     "name": "stdout",
     "output_type": "stream",
     "text": [
      "  X |   |   \n",
      " ---|---|---\n",
      "  O | X | O \n",
      " ---|---|---\n",
      "  X | O | X \n",
      "\n",
      "Player 1 won!\n"
     ]
    }
   ],
   "source": [
    "while game_on:\n",
    "    # Defaulting board values\n",
    "    win = 'nobody'\n",
    "\n",
    "    pos = [\n",
    "        'not_used',\n",
    "        ' ', ' ', ' ',\n",
    "        ' ', ' ', ' ',\n",
    "        ' ', ' ', ' '\n",
    "    ]\n",
    "\n",
    "    board = (\n",
    "\n",
    "        f'  {pos[7]} | {pos[8]} | {pos[9]} \\n '\n",
    "        '---|---|---\\n'\n",
    "        f'  {pos[4]} | {pos[5]} | {pos[6]} \\n '\n",
    "        '---|---|---\\n'\n",
    "        f'  {pos[1]} | {pos[2]} | {pos[3]} \\n'\n",
    "\n",
    "    )\n",
    "\n",
    "    # Turn cycle\n",
    "    while win == 'nobody' and ' ' in pos:\n",
    "\n",
    "        # Clear any historical output and show the game list\n",
    "        clear_output()\n",
    "\n",
    "        # Draw a board\n",
    "        game_board(board)\n",
    "\n",
    "        # Greet a marker\n",
    "        if turn % 2 != 0:\n",
    "            print('Turn: Player 1')\n",
    "        else:\n",
    "            print('Turn: Player 2')\n",
    "\n",
    "        # Have player choose position\n",
    "        position = user_choice()\n",
    "\n",
    "        # Rewrite that position and update board\n",
    "        pos = board_replace(pos, position)\n",
    "\n",
    "        # Update the board\n",
    "        board = (\n",
    "\n",
    "            f'  {pos[7]} | {pos[8]} | {pos[9]} \\n '\n",
    "            '---|---|---\\n'\n",
    "            f'  {pos[4]} | {pos[5]} | {pos[6]} \\n '\n",
    "            '---|---|---\\n'\n",
    "            f'  {pos[1]} | {pos[2]} | {pos[3]} \\n'\n",
    "\n",
    "        )\n",
    "\n",
    "        # Clear Screen and show the updated game board\n",
    "        clear_output()\n",
    "        game_board(board)\n",
    "\n",
    "        # Checking winner\n",
    "        win = check_win()\n",
    "\n",
    "        if win != 'nobody':\n",
    "            print(f'{win} won!')\n",
    "\n",
    "        # Checking for a tie\n",
    "        if ' ' not in pos and win == 'nobody':\n",
    "            print('No free spots left on a board! It seems to be a tie!\\n')\n",
    "\n",
    "        # Adding to a turn counter\n",
    "        turn += 1\n",
    "\n",
    "    # Ask if you want to keep playing\n",
    "    game_on = continue_game()\n"
   ]
  }
 ],
 "metadata": {
  "kernelspec": {
   "display_name": "Python 3",
   "language": "python",
   "name": "python3"
  },
  "language_info": {
   "codemirror_mode": {
    "name": "ipython",
    "version": 3
   },
   "file_extension": ".py",
   "mimetype": "text/x-python",
   "name": "python",
   "nbconvert_exporter": "python",
   "pygments_lexer": "ipython3",
   "version": "3.11.1"
  },
  "orig_nbformat": 4,
  "vscode": {
   "interpreter": {
    "hash": "9e546f9cc15c4e6070443d216ec4aee9dec49124d16ddf11db475d9c514b80e6"
   }
  }
 },
 "nbformat": 4,
 "nbformat_minor": 2
}
