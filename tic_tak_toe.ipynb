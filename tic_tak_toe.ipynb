{
 "cells": [
  {
   "cell_type": "code",
   "execution_count": 127,
   "metadata": {},
   "outputs": [],
   "source": [
    "# Importing libraries\n",
    "from IPython.display import clear_output"
   ]
  },
  {
   "cell_type": "code",
   "execution_count": 128,
   "metadata": {},
   "outputs": [
    {
     "name": "stdout",
     "output_type": "stream",
     "text": [
      "Welcome to the Tic Tak Toe game! You pick the spot by index.\n",
      "Here is the board indexes:\n",
      "  7 | 8 | 9 \n",
      " ---|---|---\n",
      "  4 | 5 | 6 \n",
      " ---|---|---\n",
      "  1 | 2 | 3 \n",
      "\n"
     ]
    }
   ],
   "source": [
    "# Defining rows of a board\n",
    "game_on = True\n",
    "\n",
    "pos = ['not_used', \n",
    "       '1', '2', '3',\n",
    "       '4', '5', '6',\n",
    "       '7', '8', '9'\n",
    "       ]\n",
    "\n",
    "# Defining board itself\n",
    "board = (\n",
    "    \n",
    "    f'  {pos[7]} | {pos[8]} | {pos[9]} \\n '\n",
    "     '---|---|---\\n'\n",
    "    f'  {pos[4]} | {pos[5]} | {pos[6]} \\n '\n",
    "     '---|---|---\\n'\n",
    "    f'  {pos[1]} | {pos[2]} | {pos[3]} \\n'\n",
    "    \n",
    ")\n",
    "\n",
    "# Printing Welcome message\n",
    "print('Welcome to the Tic Tak Toe game! '\n",
    "      'You pick the spot by index.\\n'\n",
    "      'Here is the board indexes:')\n",
    "print(board)\n",
    "\n",
    "# Defaulting board values\n",
    "pos = ['not_used', \n",
    "       ' ', ' ', ' ',\n",
    "       ' ', ' ', ' ',\n",
    "       ' ', ' ', ' '\n",
    "       ]\n",
    "\n",
    "board = (\n",
    "    \n",
    "    f'  {pos[7]} | {pos[8]} | {pos[9]} \\n '\n",
    "     '---|---|---\\n'\n",
    "    f'  {pos[4]} | {pos[5]} | {pos[6]} \\n '\n",
    "     '---|---|---\\n'\n",
    "    f'  {pos[1]} | {pos[2]} | {pos[3]} \\n'\n",
    "    \n",
    ")\n",
    "\n",
    "# Drawing a game board\n",
    "def game_board(board):\n",
    "    print(board)\n"
   ]
  },
  {
   "cell_type": "code",
   "execution_count": 129,
   "metadata": {},
   "outputs": [],
   "source": [
    "# game_board(board)"
   ]
  },
  {
   "cell_type": "code",
   "execution_count": 130,
   "metadata": {},
   "outputs": [],
   "source": [
    "\n",
    "def user_pic():\n",
    "    # Pick a side X or O\n",
    "\n",
    "    pic = 'EMPTY CHOICE'\n",
    "\n",
    "    while pic not in 'XO':\n",
    "        pic = input('Pick a side! X or O ?').upper()\n",
    "        if pic not in 'XO':\n",
    "            clear_output()\n",
    "            print('Sorry, you need to enter X or O!')\n",
    "    return pic\n"
   ]
  },
  {
   "cell_type": "code",
   "execution_count": 131,
   "metadata": {},
   "outputs": [
    {
     "data": {
      "text/plain": [
       "'O'"
      ]
     },
     "execution_count": 131,
     "metadata": {},
     "output_type": "execute_result"
    }
   ],
   "source": [
    "user_pic()"
   ]
  },
  {
   "cell_type": "code",
   "execution_count": 132,
   "metadata": {},
   "outputs": [],
   "source": [
    "# Defining user position choice\n",
    "def user_choice():\n",
    "    \n",
    "    choice = 'WRONG'\n",
    "    \n",
    "    while not choice.isdigit() or int(choice) not in range(1,10):\n",
    "        \n",
    "        choice = input('Select a position index (1-9):')\n",
    "        \n",
    "        if not choice.isdigit():\n",
    "            clear_output()\n",
    "            print(\"Sorry that is not a digit! Please enter 1-9!\")\n",
    "            \n",
    "        elif int(choice) not in range(1,10):\n",
    "            clear_output()\n",
    "            print('Sorry that is not a correct position value! Please enter 1-9!')\n",
    "    \n",
    "    return int(choice)\n"
   ]
  },
  {
   "cell_type": "code",
   "execution_count": 133,
   "metadata": {},
   "outputs": [
    {
     "data": {
      "text/plain": [
       "9"
      ]
     },
     "execution_count": 133,
     "metadata": {},
     "output_type": "execute_result"
    }
   ],
   "source": [
    "user_choice()"
   ]
  },
  {
   "cell_type": "code",
   "execution_count": 134,
   "metadata": {},
   "outputs": [],
   "source": [
    "# Define game continue or not\n",
    "def continue_game():\n",
    "    \n",
    "    go_game = 'empty value'\n",
    "    \n",
    "    while go_game.capitalize() not in ['Yes', 'No']:\n",
    "        \n",
    "        go_game = input('Continue? Enter Yes or No')\n",
    "        \n",
    "        if go_game.capitalize() not in ['Yes','No']:\n",
    "            clear_output()\n",
    "            print(\"Sorry, I didn't understand.\\nPlease make sure to enter Yes or No.\")\n",
    "            \n",
    "    # clear_output()\n",
    "    \n",
    "    if go_game.capitalize() == \"Yes\":\n",
    "        # Game is still on\n",
    "        return True\n",
    "    else:\n",
    "        # Game is over\n",
    "        return False\n"
   ]
  },
  {
   "cell_type": "code",
   "execution_count": 135,
   "metadata": {},
   "outputs": [
    {
     "data": {
      "text/plain": [
       "False"
      ]
     },
     "execution_count": 135,
     "metadata": {},
     "output_type": "execute_result"
    }
   ],
   "source": [
    "continue_game()"
   ]
  },
  {
   "cell_type": "code",
   "execution_count": 136,
   "metadata": {},
   "outputs": [],
   "source": [
    "def board_replace(dictionary, position):\n",
    "    \n",
    "    dictionary[position] = 'X'\n",
    "    \n",
    "    return dictionary"
   ]
  },
  {
   "cell_type": "code",
   "execution_count": 137,
   "metadata": {},
   "outputs": [
    {
     "name": "stdout",
     "output_type": "stream",
     "text": [
      "    |   | X \n",
      " ---|---|---\n",
      "    | X |   \n",
      " ---|---|---\n",
      "  X |   |   \n",
      "\n"
     ]
    }
   ],
   "source": [
    "# Define game logic\n",
    "game_on = True\n",
    "\n",
    "while game_on:\n",
    "    \n",
    "    # Clear any historical output and show the game list\n",
    "    clear_output()\n",
    "    game_board(board)\n",
    "    \n",
    "    # Have player choose position\n",
    "    position = user_choice()\n",
    "    \n",
    "    # Rewrite that position and update board\n",
    "    pos = board_replace(pos, position)\n",
    "    \n",
    "    # Update the board\n",
    "    board = (\n",
    "    \n",
    "    f'  {pos[7]} | {pos[8]} | {pos[9]} \\n '\n",
    "     '---|---|---\\n'\n",
    "    f'  {pos[4]} | {pos[5]} | {pos[6]} \\n '\n",
    "     '---|---|---\\n'\n",
    "    f'  {pos[1]} | {pos[2]} | {pos[3]} \\n'\n",
    "    \n",
    ")\n",
    "    \n",
    "    # Clear Screen and show the updated game list\n",
    "    clear_output()\n",
    "    game_board(board)\n",
    "    \n",
    "    # Ask if you want to keep playing\n",
    "    game_on = continue_game()\n",
    "    "
   ]
  }
 ],
 "metadata": {
  "kernelspec": {
   "display_name": "Python 3",
   "language": "python",
   "name": "python3"
  },
  "language_info": {
   "codemirror_mode": {
    "name": "ipython",
    "version": 3
   },
   "file_extension": ".py",
   "mimetype": "text/x-python",
   "name": "python",
   "nbconvert_exporter": "python",
   "pygments_lexer": "ipython3",
   "version": "3.11.1 (tags/v3.11.1:a7a450f, Dec  6 2022, 19:58:39) [MSC v.1934 64 bit (AMD64)]"
  },
  "orig_nbformat": 4,
  "vscode": {
   "interpreter": {
    "hash": "9e546f9cc15c4e6070443d216ec4aee9dec49124d16ddf11db475d9c514b80e6"
   }
  }
 },
 "nbformat": 4,
 "nbformat_minor": 2
}
