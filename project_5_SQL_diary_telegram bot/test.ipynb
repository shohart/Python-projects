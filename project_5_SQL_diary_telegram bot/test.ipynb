{
 "cells": [
  {
   "cell_type": "code",
   "execution_count": 1,
   "metadata": {},
   "outputs": [],
   "source": [
    "buttons_dict = {\n",
    "    \"cancel\": (\"❌ Cancel\", \"cancel\"),\n",
    "    \"reg\": (\"🔑 Register\", \"reg\"),\n",
    "    \"add\": (\"📝 Add new\", \"add\"),\n",
    "    \"view\": (\"📖 View old\", \"view\"),\n",
    "    \"male\": (\"👨‍🦰 Male\", \"Male\"),\n",
    "    \"female\": (\"👩‍🦰 Female\", \"Female\"),\n",
    "    \"other\": (\"🤖👩‍🎤👨‍🎤 Other\", \"Other\"),\n",
    "    \"one\": (\"1️⃣\", \"1\"),\n",
    "    \"five\": (\"5️⃣\", \"5\"),\n",
    "    \"ten\": (\"🔟\", \"10\"),\n",
    "    \"custom\": (\"📆 custom period\", \"custom\"),\n",
    "    \"mood0\": (\"😭 Don't ask\", \"Don't ask\"),\n",
    "    \"mood1\": (\"😥 Sad\", \"Sad\"),\n",
    "    \"mood2\": (\"😐 Will do\", \"Will do\"),\n",
    "    \"mood3\": (\"😊 Happy\", \"Happy\"),\n",
    "    \"mood4\": (\"🤩 Amazing!\", \"Amazing!\"),\n",
    "}"
   ]
  },
  {
   "cell_type": "code",
   "execution_count": 3,
   "metadata": {},
   "outputs": [
    {
     "data": {
      "text/plain": [
       "['cancel',\n",
       " 'reg',\n",
       " 'add',\n",
       " 'view',\n",
       " 'Male',\n",
       " 'Female',\n",
       " 'Other',\n",
       " '1',\n",
       " '5',\n",
       " '10',\n",
       " 'custom',\n",
       " \"Don't ask\",\n",
       " 'Sad',\n",
       " 'Will do',\n",
       " 'Happy',\n",
       " 'Amazing!']"
      ]
     },
     "execution_count": 3,
     "metadata": {},
     "output_type": "execute_result"
    }
   ],
   "source": [
    "[i[1] for i in buttons_dict.values()]"
   ]
  }
 ],
 "metadata": {
  "kernelspec": {
   "display_name": "Python 3",
   "language": "python",
   "name": "python3"
  },
  "language_info": {
   "codemirror_mode": {
    "name": "ipython",
    "version": 3
   },
   "file_extension": ".py",
   "mimetype": "text/x-python",
   "name": "python",
   "nbconvert_exporter": "python",
   "pygments_lexer": "ipython3",
   "version": "3.11.1"
  },
  "orig_nbformat": 4,
  "vscode": {
   "interpreter": {
    "hash": "6a6f0dd55330fb9c56f74fcede277488b6753b1fac5818060d06d6a397fa54cd"
   }
  }
 },
 "nbformat": 4,
 "nbformat_minor": 2
}
